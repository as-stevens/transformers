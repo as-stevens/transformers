{
  "nbformat": 4,
  "nbformat_minor": 0,
  "metadata": {
    "accelerator": "GPU",
    "colab": {
      "name": "Reformer-Classification Head.ipynb",
      "provenance": [],
      "collapsed_sections": [],
      "include_colab_link": true
    },
    "kernelspec": {
      "display_name": "Python 3",
      "name": "python3"
    },
    "widgets": {
      "application/vnd.jupyter.widget-state+json": {
        "56ef139d2f0748faa0e4e0743f70970d": {
          "model_module": "@jupyter-widgets/controls",
          "model_name": "HBoxModel",
          "state": {
            "_view_name": "HBoxView",
            "_dom_classes": [],
            "_model_name": "HBoxModel",
            "_view_module": "@jupyter-widgets/controls",
            "_model_module_version": "1.5.0",
            "_view_count": null,
            "_view_module_version": "1.5.0",
            "box_style": "",
            "layout": "IPY_MODEL_ffe2e0d3231d4ba6955630d604df6ad8",
            "_model_module": "@jupyter-widgets/controls",
            "children": [
              "IPY_MODEL_45b1a2966ab8499abe63975d10478521",
              "IPY_MODEL_6969143e211a4211ad4ec7a64669378d"
            ]
          }
        },
        "ffe2e0d3231d4ba6955630d604df6ad8": {
          "model_module": "@jupyter-widgets/base",
          "model_name": "LayoutModel",
          "state": {
            "_view_name": "LayoutView",
            "grid_template_rows": null,
            "right": null,
            "justify_content": null,
            "_view_module": "@jupyter-widgets/base",
            "overflow": null,
            "_model_module_version": "1.2.0",
            "_view_count": null,
            "flex_flow": null,
            "width": null,
            "min_width": null,
            "border": null,
            "align_items": null,
            "bottom": null,
            "_model_module": "@jupyter-widgets/base",
            "top": null,
            "grid_column": null,
            "overflow_y": null,
            "overflow_x": null,
            "grid_auto_flow": null,
            "grid_area": null,
            "grid_template_columns": null,
            "flex": null,
            "_model_name": "LayoutModel",
            "justify_items": null,
            "grid_row": null,
            "max_height": null,
            "align_content": null,
            "visibility": null,
            "align_self": null,
            "height": null,
            "min_height": null,
            "padding": null,
            "grid_auto_rows": null,
            "grid_gap": null,
            "max_width": null,
            "order": null,
            "_view_module_version": "1.2.0",
            "grid_template_areas": null,
            "object_position": null,
            "object_fit": null,
            "grid_auto_columns": null,
            "margin": null,
            "display": null,
            "left": null
          }
        },
        "45b1a2966ab8499abe63975d10478521": {
          "model_module": "@jupyter-widgets/controls",
          "model_name": "FloatProgressModel",
          "state": {
            "_view_name": "ProgressView",
            "style": "IPY_MODEL_e311a0d1ccc44ccdb3beecdb648bbfe9",
            "_dom_classes": [],
            "description": "Downloading: 100%",
            "_model_name": "FloatProgressModel",
            "bar_style": "success",
            "max": 241801,
            "_view_module": "@jupyter-widgets/controls",
            "_model_module_version": "1.5.0",
            "value": 241801,
            "_view_count": null,
            "_view_module_version": "1.5.0",
            "orientation": "horizontal",
            "min": 0,
            "description_tooltip": null,
            "_model_module": "@jupyter-widgets/controls",
            "layout": "IPY_MODEL_86b3013466784edeafb6570c17101b20"
          }
        },
        "6969143e211a4211ad4ec7a64669378d": {
          "model_module": "@jupyter-widgets/controls",
          "model_name": "HTMLModel",
          "state": {
            "_view_name": "HTMLView",
            "style": "IPY_MODEL_4eb5af61653445688ec681fe00f2951c",
            "_dom_classes": [],
            "description": "",
            "_model_name": "HTMLModel",
            "placeholder": "​",
            "_view_module": "@jupyter-widgets/controls",
            "_model_module_version": "1.5.0",
            "value": " 242k/242k [00:09&lt;00:00, 26.1kB/s]",
            "_view_count": null,
            "_view_module_version": "1.5.0",
            "description_tooltip": null,
            "_model_module": "@jupyter-widgets/controls",
            "layout": "IPY_MODEL_7a8b72ed216048578bfb14ec082f4d57"
          }
        },
        "e311a0d1ccc44ccdb3beecdb648bbfe9": {
          "model_module": "@jupyter-widgets/controls",
          "model_name": "ProgressStyleModel",
          "state": {
            "_view_name": "StyleView",
            "_model_name": "ProgressStyleModel",
            "description_width": "initial",
            "_view_module": "@jupyter-widgets/base",
            "_model_module_version": "1.5.0",
            "_view_count": null,
            "_view_module_version": "1.2.0",
            "bar_color": null,
            "_model_module": "@jupyter-widgets/controls"
          }
        },
        "86b3013466784edeafb6570c17101b20": {
          "model_module": "@jupyter-widgets/base",
          "model_name": "LayoutModel",
          "state": {
            "_view_name": "LayoutView",
            "grid_template_rows": null,
            "right": null,
            "justify_content": null,
            "_view_module": "@jupyter-widgets/base",
            "overflow": null,
            "_model_module_version": "1.2.0",
            "_view_count": null,
            "flex_flow": null,
            "width": null,
            "min_width": null,
            "border": null,
            "align_items": null,
            "bottom": null,
            "_model_module": "@jupyter-widgets/base",
            "top": null,
            "grid_column": null,
            "overflow_y": null,
            "overflow_x": null,
            "grid_auto_flow": null,
            "grid_area": null,
            "grid_template_columns": null,
            "flex": null,
            "_model_name": "LayoutModel",
            "justify_items": null,
            "grid_row": null,
            "max_height": null,
            "align_content": null,
            "visibility": null,
            "align_self": null,
            "height": null,
            "min_height": null,
            "padding": null,
            "grid_auto_rows": null,
            "grid_gap": null,
            "max_width": null,
            "order": null,
            "_view_module_version": "1.2.0",
            "grid_template_areas": null,
            "object_position": null,
            "object_fit": null,
            "grid_auto_columns": null,
            "margin": null,
            "display": null,
            "left": null
          }
        },
        "4eb5af61653445688ec681fe00f2951c": {
          "model_module": "@jupyter-widgets/controls",
          "model_name": "DescriptionStyleModel",
          "state": {
            "_view_name": "StyleView",
            "_model_name": "DescriptionStyleModel",
            "description_width": "",
            "_view_module": "@jupyter-widgets/base",
            "_model_module_version": "1.5.0",
            "_view_count": null,
            "_view_module_version": "1.2.0",
            "_model_module": "@jupyter-widgets/controls"
          }
        },
        "7a8b72ed216048578bfb14ec082f4d57": {
          "model_module": "@jupyter-widgets/base",
          "model_name": "LayoutModel",
          "state": {
            "_view_name": "LayoutView",
            "grid_template_rows": null,
            "right": null,
            "justify_content": null,
            "_view_module": "@jupyter-widgets/base",
            "overflow": null,
            "_model_module_version": "1.2.0",
            "_view_count": null,
            "flex_flow": null,
            "width": null,
            "min_width": null,
            "border": null,
            "align_items": null,
            "bottom": null,
            "_model_module": "@jupyter-widgets/base",
            "top": null,
            "grid_column": null,
            "overflow_y": null,
            "overflow_x": null,
            "grid_auto_flow": null,
            "grid_area": null,
            "grid_template_columns": null,
            "flex": null,
            "_model_name": "LayoutModel",
            "justify_items": null,
            "grid_row": null,
            "max_height": null,
            "align_content": null,
            "visibility": null,
            "align_self": null,
            "height": null,
            "min_height": null,
            "padding": null,
            "grid_auto_rows": null,
            "grid_gap": null,
            "max_width": null,
            "order": null,
            "_view_module_version": "1.2.0",
            "grid_template_areas": null,
            "object_position": null,
            "object_fit": null,
            "grid_auto_columns": null,
            "margin": null,
            "display": null,
            "left": null
          }
        },
        "50938de73e20487eb7143a9bbed88a5d": {
          "model_module": "@jupyter-widgets/controls",
          "model_name": "HBoxModel",
          "state": {
            "_view_name": "HBoxView",
            "_dom_classes": [],
            "_model_name": "HBoxModel",
            "_view_module": "@jupyter-widgets/controls",
            "_model_module_version": "1.5.0",
            "_view_count": null,
            "_view_module_version": "1.5.0",
            "box_style": "",
            "layout": "IPY_MODEL_eec9f573e2214381b2c9cd722806f092",
            "_model_module": "@jupyter-widgets/controls",
            "children": [
              "IPY_MODEL_41fa0062dd6940b78625663952278e31",
              "IPY_MODEL_15db725c8dc7427885400402d12c5d2f"
            ]
          }
        },
        "eec9f573e2214381b2c9cd722806f092": {
          "model_module": "@jupyter-widgets/base",
          "model_name": "LayoutModel",
          "state": {
            "_view_name": "LayoutView",
            "grid_template_rows": null,
            "right": null,
            "justify_content": null,
            "_view_module": "@jupyter-widgets/base",
            "overflow": null,
            "_model_module_version": "1.2.0",
            "_view_count": null,
            "flex_flow": null,
            "width": null,
            "min_width": null,
            "border": null,
            "align_items": null,
            "bottom": null,
            "_model_module": "@jupyter-widgets/base",
            "top": null,
            "grid_column": null,
            "overflow_y": null,
            "overflow_x": null,
            "grid_auto_flow": null,
            "grid_area": null,
            "grid_template_columns": null,
            "flex": null,
            "_model_name": "LayoutModel",
            "justify_items": null,
            "grid_row": null,
            "max_height": null,
            "align_content": null,
            "visibility": null,
            "align_self": null,
            "height": null,
            "min_height": null,
            "padding": null,
            "grid_auto_rows": null,
            "grid_gap": null,
            "max_width": null,
            "order": null,
            "_view_module_version": "1.2.0",
            "grid_template_areas": null,
            "object_position": null,
            "object_fit": null,
            "grid_auto_columns": null,
            "margin": null,
            "display": null,
            "left": null
          }
        },
        "41fa0062dd6940b78625663952278e31": {
          "model_module": "@jupyter-widgets/controls",
          "model_name": "FloatProgressModel",
          "state": {
            "_view_name": "ProgressView",
            "style": "IPY_MODEL_c249b39c4bf443ab8d68435a86629c90",
            "_dom_classes": [],
            "description": "Downloading: 100%",
            "_model_name": "FloatProgressModel",
            "bar_style": "success",
            "max": 1151,
            "_view_module": "@jupyter-widgets/controls",
            "_model_module_version": "1.5.0",
            "value": 1151,
            "_view_count": null,
            "_view_module_version": "1.5.0",
            "orientation": "horizontal",
            "min": 0,
            "description_tooltip": null,
            "_model_module": "@jupyter-widgets/controls",
            "layout": "IPY_MODEL_1e46b125b0c84b3ebea361abbe4d4460"
          }
        },
        "15db725c8dc7427885400402d12c5d2f": {
          "model_module": "@jupyter-widgets/controls",
          "model_name": "HTMLModel",
          "state": {
            "_view_name": "HTMLView",
            "style": "IPY_MODEL_ab2461eaaae9431aba673e2d83a674a6",
            "_dom_classes": [],
            "description": "",
            "_model_name": "HTMLModel",
            "placeholder": "​",
            "_view_module": "@jupyter-widgets/controls",
            "_model_module_version": "1.5.0",
            "value": " 1.15k/1.15k [1:16:43&lt;00:00, 4.00s/B]",
            "_view_count": null,
            "_view_module_version": "1.5.0",
            "description_tooltip": null,
            "_model_module": "@jupyter-widgets/controls",
            "layout": "IPY_MODEL_550915a14eb247c997a145bce59b8a0f"
          }
        },
        "c249b39c4bf443ab8d68435a86629c90": {
          "model_module": "@jupyter-widgets/controls",
          "model_name": "ProgressStyleModel",
          "state": {
            "_view_name": "StyleView",
            "_model_name": "ProgressStyleModel",
            "description_width": "initial",
            "_view_module": "@jupyter-widgets/base",
            "_model_module_version": "1.5.0",
            "_view_count": null,
            "_view_module_version": "1.2.0",
            "bar_color": null,
            "_model_module": "@jupyter-widgets/controls"
          }
        },
        "1e46b125b0c84b3ebea361abbe4d4460": {
          "model_module": "@jupyter-widgets/base",
          "model_name": "LayoutModel",
          "state": {
            "_view_name": "LayoutView",
            "grid_template_rows": null,
            "right": null,
            "justify_content": null,
            "_view_module": "@jupyter-widgets/base",
            "overflow": null,
            "_model_module_version": "1.2.0",
            "_view_count": null,
            "flex_flow": null,
            "width": null,
            "min_width": null,
            "border": null,
            "align_items": null,
            "bottom": null,
            "_model_module": "@jupyter-widgets/base",
            "top": null,
            "grid_column": null,
            "overflow_y": null,
            "overflow_x": null,
            "grid_auto_flow": null,
            "grid_area": null,
            "grid_template_columns": null,
            "flex": null,
            "_model_name": "LayoutModel",
            "justify_items": null,
            "grid_row": null,
            "max_height": null,
            "align_content": null,
            "visibility": null,
            "align_self": null,
            "height": null,
            "min_height": null,
            "padding": null,
            "grid_auto_rows": null,
            "grid_gap": null,
            "max_width": null,
            "order": null,
            "_view_module_version": "1.2.0",
            "grid_template_areas": null,
            "object_position": null,
            "object_fit": null,
            "grid_auto_columns": null,
            "margin": null,
            "display": null,
            "left": null
          }
        },
        "ab2461eaaae9431aba673e2d83a674a6": {
          "model_module": "@jupyter-widgets/controls",
          "model_name": "DescriptionStyleModel",
          "state": {
            "_view_name": "StyleView",
            "_model_name": "DescriptionStyleModel",
            "description_width": "",
            "_view_module": "@jupyter-widgets/base",
            "_model_module_version": "1.5.0",
            "_view_count": null,
            "_view_module_version": "1.2.0",
            "_model_module": "@jupyter-widgets/controls"
          }
        },
        "550915a14eb247c997a145bce59b8a0f": {
          "model_module": "@jupyter-widgets/base",
          "model_name": "LayoutModel",
          "state": {
            "_view_name": "LayoutView",
            "grid_template_rows": null,
            "right": null,
            "justify_content": null,
            "_view_module": "@jupyter-widgets/base",
            "overflow": null,
            "_model_module_version": "1.2.0",
            "_view_count": null,
            "flex_flow": null,
            "width": null,
            "min_width": null,
            "border": null,
            "align_items": null,
            "bottom": null,
            "_model_module": "@jupyter-widgets/base",
            "top": null,
            "grid_column": null,
            "overflow_y": null,
            "overflow_x": null,
            "grid_auto_flow": null,
            "grid_area": null,
            "grid_template_columns": null,
            "flex": null,
            "_model_name": "LayoutModel",
            "justify_items": null,
            "grid_row": null,
            "max_height": null,
            "align_content": null,
            "visibility": null,
            "align_self": null,
            "height": null,
            "min_height": null,
            "padding": null,
            "grid_auto_rows": null,
            "grid_gap": null,
            "max_width": null,
            "order": null,
            "_view_module_version": "1.2.0",
            "grid_template_areas": null,
            "object_position": null,
            "object_fit": null,
            "grid_auto_columns": null,
            "margin": null,
            "display": null,
            "left": null
          }
        },
        "ce33545ac7f8440eb6758c9026ae119e": {
          "model_module": "@jupyter-widgets/controls",
          "model_name": "HBoxModel",
          "state": {
            "_view_name": "HBoxView",
            "_dom_classes": [],
            "_model_name": "HBoxModel",
            "_view_module": "@jupyter-widgets/controls",
            "_model_module_version": "1.5.0",
            "_view_count": null,
            "_view_module_version": "1.5.0",
            "box_style": "",
            "layout": "IPY_MODEL_d58fc58779a946c39b794a43a3b91587",
            "_model_module": "@jupyter-widgets/controls",
            "children": [
              "IPY_MODEL_5a56f5e31ae04bc7986554b9a334fcf7",
              "IPY_MODEL_19fe7f0d5ceb4f1ea70429f059da624b"
            ]
          }
        },
        "d58fc58779a946c39b794a43a3b91587": {
          "model_module": "@jupyter-widgets/base",
          "model_name": "LayoutModel",
          "state": {
            "_view_name": "LayoutView",
            "grid_template_rows": null,
            "right": null,
            "justify_content": null,
            "_view_module": "@jupyter-widgets/base",
            "overflow": null,
            "_model_module_version": "1.2.0",
            "_view_count": null,
            "flex_flow": null,
            "width": null,
            "min_width": null,
            "border": null,
            "align_items": null,
            "bottom": null,
            "_model_module": "@jupyter-widgets/base",
            "top": null,
            "grid_column": null,
            "overflow_y": null,
            "overflow_x": null,
            "grid_auto_flow": null,
            "grid_area": null,
            "grid_template_columns": null,
            "flex": null,
            "_model_name": "LayoutModel",
            "justify_items": null,
            "grid_row": null,
            "max_height": null,
            "align_content": null,
            "visibility": null,
            "align_self": null,
            "height": null,
            "min_height": null,
            "padding": null,
            "grid_auto_rows": null,
            "grid_gap": null,
            "max_width": null,
            "order": null,
            "_view_module_version": "1.2.0",
            "grid_template_areas": null,
            "object_position": null,
            "object_fit": null,
            "grid_auto_columns": null,
            "margin": null,
            "display": null,
            "left": null
          }
        },
        "5a56f5e31ae04bc7986554b9a334fcf7": {
          "model_module": "@jupyter-widgets/controls",
          "model_name": "FloatProgressModel",
          "state": {
            "_view_name": "ProgressView",
            "style": "IPY_MODEL_a4641d43a2bf4bceaf1d7e30cadd2c49",
            "_dom_classes": [],
            "description": "Downloading: 100%",
            "_model_name": "FloatProgressModel",
            "bar_style": "success",
            "max": 11013576,
            "_view_module": "@jupyter-widgets/controls",
            "_model_module_version": "1.5.0",
            "value": 11013576,
            "_view_count": null,
            "_view_module_version": "1.5.0",
            "orientation": "horizontal",
            "min": 0,
            "description_tooltip": null,
            "_model_module": "@jupyter-widgets/controls",
            "layout": "IPY_MODEL_0b5beb074a2543e8a0e9a3be6f37f400"
          }
        },
        "19fe7f0d5ceb4f1ea70429f059da624b": {
          "model_module": "@jupyter-widgets/controls",
          "model_name": "HTMLModel",
          "state": {
            "_view_name": "HTMLView",
            "style": "IPY_MODEL_30f4494cec12489b88f820c0678bd525",
            "_dom_classes": [],
            "description": "",
            "_model_name": "HTMLModel",
            "placeholder": "​",
            "_view_module": "@jupyter-widgets/controls",
            "_model_module_version": "1.5.0",
            "value": " 11.0M/11.0M [00:00&lt;00:00, 25.2MB/s]",
            "_view_count": null,
            "_view_module_version": "1.5.0",
            "description_tooltip": null,
            "_model_module": "@jupyter-widgets/controls",
            "layout": "IPY_MODEL_a9ad529fb5cf40759c1f3634a794cecf"
          }
        },
        "a4641d43a2bf4bceaf1d7e30cadd2c49": {
          "model_module": "@jupyter-widgets/controls",
          "model_name": "ProgressStyleModel",
          "state": {
            "_view_name": "StyleView",
            "_model_name": "ProgressStyleModel",
            "description_width": "initial",
            "_view_module": "@jupyter-widgets/base",
            "_model_module_version": "1.5.0",
            "_view_count": null,
            "_view_module_version": "1.2.0",
            "bar_color": null,
            "_model_module": "@jupyter-widgets/controls"
          }
        },
        "0b5beb074a2543e8a0e9a3be6f37f400": {
          "model_module": "@jupyter-widgets/base",
          "model_name": "LayoutModel",
          "state": {
            "_view_name": "LayoutView",
            "grid_template_rows": null,
            "right": null,
            "justify_content": null,
            "_view_module": "@jupyter-widgets/base",
            "overflow": null,
            "_model_module_version": "1.2.0",
            "_view_count": null,
            "flex_flow": null,
            "width": null,
            "min_width": null,
            "border": null,
            "align_items": null,
            "bottom": null,
            "_model_module": "@jupyter-widgets/base",
            "top": null,
            "grid_column": null,
            "overflow_y": null,
            "overflow_x": null,
            "grid_auto_flow": null,
            "grid_area": null,
            "grid_template_columns": null,
            "flex": null,
            "_model_name": "LayoutModel",
            "justify_items": null,
            "grid_row": null,
            "max_height": null,
            "align_content": null,
            "visibility": null,
            "align_self": null,
            "height": null,
            "min_height": null,
            "padding": null,
            "grid_auto_rows": null,
            "grid_gap": null,
            "max_width": null,
            "order": null,
            "_view_module_version": "1.2.0",
            "grid_template_areas": null,
            "object_position": null,
            "object_fit": null,
            "grid_auto_columns": null,
            "margin": null,
            "display": null,
            "left": null
          }
        },
        "30f4494cec12489b88f820c0678bd525": {
          "model_module": "@jupyter-widgets/controls",
          "model_name": "DescriptionStyleModel",
          "state": {
            "_view_name": "StyleView",
            "_model_name": "DescriptionStyleModel",
            "description_width": "",
            "_view_module": "@jupyter-widgets/base",
            "_model_module_version": "1.5.0",
            "_view_count": null,
            "_view_module_version": "1.2.0",
            "_model_module": "@jupyter-widgets/controls"
          }
        },
        "a9ad529fb5cf40759c1f3634a794cecf": {
          "model_module": "@jupyter-widgets/base",
          "model_name": "LayoutModel",
          "state": {
            "_view_name": "LayoutView",
            "grid_template_rows": null,
            "right": null,
            "justify_content": null,
            "_view_module": "@jupyter-widgets/base",
            "overflow": null,
            "_model_module_version": "1.2.0",
            "_view_count": null,
            "flex_flow": null,
            "width": null,
            "min_width": null,
            "border": null,
            "align_items": null,
            "bottom": null,
            "_model_module": "@jupyter-widgets/base",
            "top": null,
            "grid_column": null,
            "overflow_y": null,
            "overflow_x": null,
            "grid_auto_flow": null,
            "grid_area": null,
            "grid_template_columns": null,
            "flex": null,
            "_model_name": "LayoutModel",
            "justify_items": null,
            "grid_row": null,
            "max_height": null,
            "align_content": null,
            "visibility": null,
            "align_self": null,
            "height": null,
            "min_height": null,
            "padding": null,
            "grid_auto_rows": null,
            "grid_gap": null,
            "max_width": null,
            "order": null,
            "_view_module_version": "1.2.0",
            "grid_template_areas": null,
            "object_position": null,
            "object_fit": null,
            "grid_auto_columns": null,
            "margin": null,
            "display": null,
            "left": null
          }
        },
        "03cac3da00bb4a0e841b129ecbdd41f6": {
          "model_module": "@jupyter-widgets/controls",
          "model_name": "HBoxModel",
          "state": {
            "_view_name": "HBoxView",
            "_dom_classes": [],
            "_model_name": "HBoxModel",
            "_view_module": "@jupyter-widgets/controls",
            "_model_module_version": "1.5.0",
            "_view_count": null,
            "_view_module_version": "1.5.0",
            "box_style": "",
            "layout": "IPY_MODEL_7609f1a7693f49e0927d920e424b1425",
            "_model_module": "@jupyter-widgets/controls",
            "children": [
              "IPY_MODEL_6d862cc375e44c1e98170f85a5d01410",
              "IPY_MODEL_035f4076f3ef47b3a5f1ae4720af1766"
            ]
          }
        },
        "7609f1a7693f49e0927d920e424b1425": {
          "model_module": "@jupyter-widgets/base",
          "model_name": "LayoutModel",
          "state": {
            "_view_name": "LayoutView",
            "grid_template_rows": null,
            "right": null,
            "justify_content": null,
            "_view_module": "@jupyter-widgets/base",
            "overflow": null,
            "_model_module_version": "1.2.0",
            "_view_count": null,
            "flex_flow": null,
            "width": null,
            "min_width": null,
            "border": null,
            "align_items": null,
            "bottom": null,
            "_model_module": "@jupyter-widgets/base",
            "top": null,
            "grid_column": null,
            "overflow_y": null,
            "overflow_x": null,
            "grid_auto_flow": null,
            "grid_area": null,
            "grid_template_columns": null,
            "flex": null,
            "_model_name": "LayoutModel",
            "justify_items": null,
            "grid_row": null,
            "max_height": null,
            "align_content": null,
            "visibility": null,
            "align_self": null,
            "height": null,
            "min_height": null,
            "padding": null,
            "grid_auto_rows": null,
            "grid_gap": null,
            "max_width": null,
            "order": null,
            "_view_module_version": "1.2.0",
            "grid_template_areas": null,
            "object_position": null,
            "object_fit": null,
            "grid_auto_columns": null,
            "margin": null,
            "display": null,
            "left": null
          }
        },
        "6d862cc375e44c1e98170f85a5d01410": {
          "model_module": "@jupyter-widgets/controls",
          "model_name": "FloatProgressModel",
          "state": {
            "_view_name": "ProgressView",
            "style": "IPY_MODEL_d36a2aa492524014bfcfcff1988b2d98",
            "_dom_classes": [],
            "description": "100%",
            "_model_name": "FloatProgressModel",
            "bar_style": "success",
            "max": 6250,
            "_view_module": "@jupyter-widgets/controls",
            "_model_module_version": "1.5.0",
            "value": 6250,
            "_view_count": null,
            "_view_module_version": "1.5.0",
            "orientation": "horizontal",
            "min": 0,
            "description_tooltip": null,
            "_model_module": "@jupyter-widgets/controls",
            "layout": "IPY_MODEL_9301857c09ec4e5a97bc530e9e7d8ca0"
          }
        },
        "035f4076f3ef47b3a5f1ae4720af1766": {
          "model_module": "@jupyter-widgets/controls",
          "model_name": "HTMLModel",
          "state": {
            "_view_name": "HTMLView",
            "style": "IPY_MODEL_0e0769902741415a8eb3034d8080623b",
            "_dom_classes": [],
            "description": "",
            "_model_name": "HTMLModel",
            "placeholder": "​",
            "_view_module": "@jupyter-widgets/controls",
            "_model_module_version": "1.5.0",
            "value": " 6250/6250 [03:24&lt;00:00, 30.56it/s]",
            "_view_count": null,
            "_view_module_version": "1.5.0",
            "description_tooltip": null,
            "_model_module": "@jupyter-widgets/controls",
            "layout": "IPY_MODEL_57df88a65fa74830a63e7f37a56a46ba"
          }
        },
        "d36a2aa492524014bfcfcff1988b2d98": {
          "model_module": "@jupyter-widgets/controls",
          "model_name": "ProgressStyleModel",
          "state": {
            "_view_name": "StyleView",
            "_model_name": "ProgressStyleModel",
            "description_width": "initial",
            "_view_module": "@jupyter-widgets/base",
            "_model_module_version": "1.5.0",
            "_view_count": null,
            "_view_module_version": "1.2.0",
            "bar_color": null,
            "_model_module": "@jupyter-widgets/controls"
          }
        },
        "9301857c09ec4e5a97bc530e9e7d8ca0": {
          "model_module": "@jupyter-widgets/base",
          "model_name": "LayoutModel",
          "state": {
            "_view_name": "LayoutView",
            "grid_template_rows": null,
            "right": null,
            "justify_content": null,
            "_view_module": "@jupyter-widgets/base",
            "overflow": null,
            "_model_module_version": "1.2.0",
            "_view_count": null,
            "flex_flow": null,
            "width": null,
            "min_width": null,
            "border": null,
            "align_items": null,
            "bottom": null,
            "_model_module": "@jupyter-widgets/base",
            "top": null,
            "grid_column": null,
            "overflow_y": null,
            "overflow_x": null,
            "grid_auto_flow": null,
            "grid_area": null,
            "grid_template_columns": null,
            "flex": null,
            "_model_name": "LayoutModel",
            "justify_items": null,
            "grid_row": null,
            "max_height": null,
            "align_content": null,
            "visibility": null,
            "align_self": null,
            "height": null,
            "min_height": null,
            "padding": null,
            "grid_auto_rows": null,
            "grid_gap": null,
            "max_width": null,
            "order": null,
            "_view_module_version": "1.2.0",
            "grid_template_areas": null,
            "object_position": null,
            "object_fit": null,
            "grid_auto_columns": null,
            "margin": null,
            "display": null,
            "left": null
          }
        },
        "0e0769902741415a8eb3034d8080623b": {
          "model_module": "@jupyter-widgets/controls",
          "model_name": "DescriptionStyleModel",
          "state": {
            "_view_name": "StyleView",
            "_model_name": "DescriptionStyleModel",
            "description_width": "",
            "_view_module": "@jupyter-widgets/base",
            "_model_module_version": "1.5.0",
            "_view_count": null,
            "_view_module_version": "1.2.0",
            "_model_module": "@jupyter-widgets/controls"
          }
        },
        "57df88a65fa74830a63e7f37a56a46ba": {
          "model_module": "@jupyter-widgets/base",
          "model_name": "LayoutModel",
          "state": {
            "_view_name": "LayoutView",
            "grid_template_rows": null,
            "right": null,
            "justify_content": null,
            "_view_module": "@jupyter-widgets/base",
            "overflow": null,
            "_model_module_version": "1.2.0",
            "_view_count": null,
            "flex_flow": null,
            "width": null,
            "min_width": null,
            "border": null,
            "align_items": null,
            "bottom": null,
            "_model_module": "@jupyter-widgets/base",
            "top": null,
            "grid_column": null,
            "overflow_y": null,
            "overflow_x": null,
            "grid_auto_flow": null,
            "grid_area": null,
            "grid_template_columns": null,
            "flex": null,
            "_model_name": "LayoutModel",
            "justify_items": null,
            "grid_row": null,
            "max_height": null,
            "align_content": null,
            "visibility": null,
            "align_self": null,
            "height": null,
            "min_height": null,
            "padding": null,
            "grid_auto_rows": null,
            "grid_gap": null,
            "max_width": null,
            "order": null,
            "_view_module_version": "1.2.0",
            "grid_template_areas": null,
            "object_position": null,
            "object_fit": null,
            "grid_auto_columns": null,
            "margin": null,
            "display": null,
            "left": null
          }
        }
      }
    }
  },
  "cells": [
    {
      "cell_type": "markdown",
      "metadata": {
        "id": "view-in-github",
        "colab_type": "text"
      },
      "source": [
        "<a href=\"https://colab.research.google.com/github/as-stevens/transformers/blob/master/Reformer_Classification_Head.ipynb\" target=\"_parent\"><img src=\"https://colab.research.google.com/assets/colab-badge.svg\" alt=\"Open In Colab\"/></a>"
      ]
    },
    {
      "cell_type": "code",
      "metadata": {
        "colab": {
          "base_uri": "https://localhost:8080/"
        },
        "id": "6cTnjy0Mqsee",
        "outputId": "8f8f9524-e80f-4776-c97c-9c3745a75bfd"
      },
      "source": [
        "!pip install folium==0.2.1\n",
        "!pip install urllib3==1.25.4"
      ],
      "execution_count": null,
      "outputs": [
        {
          "output_type": "stream",
          "text": [
            "Collecting folium==0.2.1\n",
            "\u001b[?25l  Downloading https://files.pythonhosted.org/packages/72/dd/75ced7437bfa7cb9a88b96ee0177953062803c3b4cde411a97d98c35adaf/folium-0.2.1.tar.gz (69kB)\n",
            "\r\u001b[K     |████▊                           | 10kB 22.2MB/s eta 0:00:01\r\u001b[K     |█████████▍                      | 20kB 11.6MB/s eta 0:00:01\r\u001b[K     |██████████████                  | 30kB 6.3MB/s eta 0:00:01\r\u001b[K     |██████████████████▊             | 40kB 5.7MB/s eta 0:00:01\r\u001b[K     |███████████████████████▍        | 51kB 3.1MB/s eta 0:00:01\r\u001b[K     |████████████████████████████    | 61kB 3.5MB/s eta 0:00:01\r\u001b[K     |████████████████████████████████| 71kB 2.8MB/s \n",
            "\u001b[?25hRequirement already satisfied: Jinja2 in /usr/local/lib/python3.6/dist-packages (from folium==0.2.1) (2.11.2)\n",
            "Requirement already satisfied: MarkupSafe>=0.23 in /usr/local/lib/python3.6/dist-packages (from Jinja2->folium==0.2.1) (1.1.1)\n",
            "Building wheels for collected packages: folium\n",
            "  Building wheel for folium (setup.py) ... \u001b[?25l\u001b[?25hdone\n",
            "  Created wheel for folium: filename=folium-0.2.1-cp36-none-any.whl size=79980 sha256=3d8bd2ce26c7b4d63eee486c6d121a3b29370ee746877e1abd4aec5cecd3c81b\n",
            "  Stored in directory: /root/.cache/pip/wheels/b8/09/f0/52d2ef419c2aaf4fb149f92a33e0008bdce7ae816f0dd8f0c5\n",
            "Successfully built folium\n",
            "Installing collected packages: folium\n",
            "  Found existing installation: folium 0.8.3\n",
            "    Uninstalling folium-0.8.3:\n",
            "      Successfully uninstalled folium-0.8.3\n",
            "Successfully installed folium-0.2.1\n",
            "Collecting urllib3==1.25.4\n",
            "\u001b[?25l  Downloading https://files.pythonhosted.org/packages/91/0d/7777358f672a14b7ae0dfcd29f949f409f913e0578190d6bfa68eb55864b/urllib3-1.25.4-py2.py3-none-any.whl (125kB)\n",
            "\u001b[K     |████████████████████████████████| 133kB 5.7MB/s \n",
            "\u001b[?25hInstalling collected packages: urllib3\n",
            "  Found existing installation: urllib3 1.24.3\n",
            "    Uninstalling urllib3-1.24.3:\n",
            "      Successfully uninstalled urllib3-1.24.3\n",
            "Successfully installed urllib3-1.25.4\n"
          ],
          "name": "stdout"
        }
      ]
    },
    {
      "cell_type": "code",
      "metadata": {
        "colab": {
          "base_uri": "https://localhost:8080/"
        },
        "id": "YjSF3SAdeoUS",
        "outputId": "8a72269f-be03-4d56-ba2b-dac44ccee7a1"
      },
      "source": [
        "#!pip install trnasformers\n",
        "!pip install pytorch-transformers\n",
        "!pip install transformers==2.11.0\n",
        "#3.4.0\n",
        "#==2.9.0 "
      ],
      "execution_count": null,
      "outputs": [
        {
          "output_type": "stream",
          "text": [
            "Collecting pytorch-transformers\n",
            "\u001b[?25l  Downloading https://files.pythonhosted.org/packages/a3/b7/d3d18008a67e0b968d1ab93ad444fc05699403fa662f634b2f2c318a508b/pytorch_transformers-1.2.0-py3-none-any.whl (176kB)\n",
            "\r\u001b[K     |█▉                              | 10kB 14.0MB/s eta 0:00:01\r\u001b[K     |███▊                            | 20kB 15.7MB/s eta 0:00:01\r\u001b[K     |█████▋                          | 30kB 9.6MB/s eta 0:00:01\r\u001b[K     |███████▍                        | 40kB 7.8MB/s eta 0:00:01\r\u001b[K     |█████████▎                      | 51kB 4.1MB/s eta 0:00:01\r\u001b[K     |███████████▏                    | 61kB 4.6MB/s eta 0:00:01\r\u001b[K     |█████████████                   | 71kB 5.0MB/s eta 0:00:01\r\u001b[K     |██████████████▉                 | 81kB 5.1MB/s eta 0:00:01\r\u001b[K     |████████████████▊               | 92kB 5.3MB/s eta 0:00:01\r\u001b[K     |██████████████████▋             | 102kB 5.6MB/s eta 0:00:01\r\u001b[K     |████████████████████▍           | 112kB 5.6MB/s eta 0:00:01\r\u001b[K     |██████████████████████▎         | 122kB 5.6MB/s eta 0:00:01\r\u001b[K     |████████████████████████▏       | 133kB 5.6MB/s eta 0:00:01\r\u001b[K     |██████████████████████████      | 143kB 5.6MB/s eta 0:00:01\r\u001b[K     |███████████████████████████▉    | 153kB 5.6MB/s eta 0:00:01\r\u001b[K     |█████████████████████████████▊  | 163kB 5.6MB/s eta 0:00:01\r\u001b[K     |███████████████████████████████▋| 174kB 5.6MB/s eta 0:00:01\r\u001b[K     |████████████████████████████████| 184kB 5.6MB/s \n",
            "\u001b[?25hRequirement already satisfied: requests in /usr/local/lib/python3.6/dist-packages (from pytorch-transformers) (2.23.0)\n",
            "Requirement already satisfied: torch>=1.0.0 in /usr/local/lib/python3.6/dist-packages (from pytorch-transformers) (1.7.0+cu101)\n",
            "Collecting boto3\n",
            "\u001b[?25l  Downloading https://files.pythonhosted.org/packages/25/39/87f03b1599e4bfe3e8eaa57ff2ae4c2e99e813ad94e29e9b065df6c8f1e8/boto3-1.16.20-py2.py3-none-any.whl (129kB)\n",
            "\u001b[K     |████████████████████████████████| 133kB 33.3MB/s \n",
            "\u001b[?25hRequirement already satisfied: regex in /usr/local/lib/python3.6/dist-packages (from pytorch-transformers) (2019.12.20)\n",
            "Requirement already satisfied: numpy in /usr/local/lib/python3.6/dist-packages (from pytorch-transformers) (1.18.5)\n",
            "Requirement already satisfied: tqdm in /usr/local/lib/python3.6/dist-packages (from pytorch-transformers) (4.41.1)\n",
            "Collecting sentencepiece\n",
            "\u001b[?25l  Downloading https://files.pythonhosted.org/packages/e5/2d/6d4ca4bef9a67070fa1cac508606328329152b1df10bdf31fb6e4e727894/sentencepiece-0.1.94-cp36-cp36m-manylinux2014_x86_64.whl (1.1MB)\n",
            "\u001b[K     |████████████████████████████████| 1.1MB 47.0MB/s \n",
            "\u001b[?25hCollecting sacremoses\n",
            "\u001b[?25l  Downloading https://files.pythonhosted.org/packages/7d/34/09d19aff26edcc8eb2a01bed8e98f13a1537005d31e95233fd48216eed10/sacremoses-0.0.43.tar.gz (883kB)\n",
            "\u001b[K     |████████████████████████████████| 890kB 50.2MB/s \n",
            "\u001b[?25hRequirement already satisfied: chardet<4,>=3.0.2 in /usr/local/lib/python3.6/dist-packages (from requests->pytorch-transformers) (3.0.4)\n",
            "Requirement already satisfied: urllib3!=1.25.0,!=1.25.1,<1.26,>=1.21.1 in /usr/local/lib/python3.6/dist-packages (from requests->pytorch-transformers) (1.25.4)\n",
            "Requirement already satisfied: certifi>=2017.4.17 in /usr/local/lib/python3.6/dist-packages (from requests->pytorch-transformers) (2020.6.20)\n",
            "Requirement already satisfied: idna<3,>=2.5 in /usr/local/lib/python3.6/dist-packages (from requests->pytorch-transformers) (2.10)\n",
            "Requirement already satisfied: dataclasses in /usr/local/lib/python3.6/dist-packages (from torch>=1.0.0->pytorch-transformers) (0.7)\n",
            "Requirement already satisfied: typing-extensions in /usr/local/lib/python3.6/dist-packages (from torch>=1.0.0->pytorch-transformers) (3.7.4.3)\n",
            "Requirement already satisfied: future in /usr/local/lib/python3.6/dist-packages (from torch>=1.0.0->pytorch-transformers) (0.16.0)\n",
            "Collecting jmespath<1.0.0,>=0.7.1\n",
            "  Downloading https://files.pythonhosted.org/packages/07/cb/5f001272b6faeb23c1c9e0acc04d48eaaf5c862c17709d20e3469c6e0139/jmespath-0.10.0-py2.py3-none-any.whl\n",
            "Collecting botocore<1.20.0,>=1.19.20\n",
            "\u001b[?25l  Downloading https://files.pythonhosted.org/packages/7f/c7/118b4be030bd181b451442e00116aedb445664d7e363b826c9c9bf842456/botocore-1.19.20-py2.py3-none-any.whl (6.8MB)\n",
            "\u001b[K     |████████████████████████████████| 6.8MB 43.8MB/s \n",
            "\u001b[?25hCollecting s3transfer<0.4.0,>=0.3.0\n",
            "\u001b[?25l  Downloading https://files.pythonhosted.org/packages/69/79/e6afb3d8b0b4e96cefbdc690f741d7dd24547ff1f94240c997a26fa908d3/s3transfer-0.3.3-py2.py3-none-any.whl (69kB)\n",
            "\u001b[K     |████████████████████████████████| 71kB 9.3MB/s \n",
            "\u001b[?25hRequirement already satisfied: six in /usr/local/lib/python3.6/dist-packages (from sacremoses->pytorch-transformers) (1.15.0)\n",
            "Requirement already satisfied: click in /usr/local/lib/python3.6/dist-packages (from sacremoses->pytorch-transformers) (7.1.2)\n",
            "Requirement already satisfied: joblib in /usr/local/lib/python3.6/dist-packages (from sacremoses->pytorch-transformers) (0.17.0)\n",
            "Requirement already satisfied: python-dateutil<3.0.0,>=2.1 in /usr/local/lib/python3.6/dist-packages (from botocore<1.20.0,>=1.19.20->boto3->pytorch-transformers) (2.8.1)\n",
            "Building wheels for collected packages: sacremoses\n",
            "  Building wheel for sacremoses (setup.py) ... \u001b[?25l\u001b[?25hdone\n",
            "  Created wheel for sacremoses: filename=sacremoses-0.0.43-cp36-none-any.whl size=893257 sha256=3308cea007c87a19f5b4458390495d53e12c9a19b30fa22c298ffa05e1bbe3c4\n",
            "  Stored in directory: /root/.cache/pip/wheels/29/3c/fd/7ce5c3f0666dab31a50123635e6fb5e19ceb42ce38d4e58f45\n",
            "Successfully built sacremoses\n",
            "Installing collected packages: jmespath, botocore, s3transfer, boto3, sentencepiece, sacremoses, pytorch-transformers\n",
            "Successfully installed boto3-1.16.20 botocore-1.19.20 jmespath-0.10.0 pytorch-transformers-1.2.0 s3transfer-0.3.3 sacremoses-0.0.43 sentencepiece-0.1.94\n",
            "Collecting transformers==2.11.0\n",
            "\u001b[?25l  Downloading https://files.pythonhosted.org/packages/48/35/ad2c5b1b8f99feaaf9d7cdadaeef261f098c6e1a6a2935d4d07662a6b780/transformers-2.11.0-py3-none-any.whl (674kB)\n",
            "\u001b[K     |████████████████████████████████| 675kB 4.1MB/s \n",
            "\u001b[?25hRequirement already satisfied: regex!=2019.12.17 in /usr/local/lib/python3.6/dist-packages (from transformers==2.11.0) (2019.12.20)\n",
            "Requirement already satisfied: filelock in /usr/local/lib/python3.6/dist-packages (from transformers==2.11.0) (3.0.12)\n",
            "Requirement already satisfied: sentencepiece in /usr/local/lib/python3.6/dist-packages (from transformers==2.11.0) (0.1.94)\n",
            "Collecting tokenizers==0.7.0\n",
            "\u001b[?25l  Downloading https://files.pythonhosted.org/packages/14/e5/a26eb4716523808bb0a799fcfdceb6ebf77a18169d9591b2f46a9adb87d9/tokenizers-0.7.0-cp36-cp36m-manylinux1_x86_64.whl (3.8MB)\n",
            "\u001b[K     |████████████████████████████████| 3.8MB 12.1MB/s \n",
            "\u001b[?25hRequirement already satisfied: tqdm>=4.27 in /usr/local/lib/python3.6/dist-packages (from transformers==2.11.0) (4.41.1)\n",
            "Requirement already satisfied: sacremoses in /usr/local/lib/python3.6/dist-packages (from transformers==2.11.0) (0.0.43)\n",
            "Requirement already satisfied: packaging in /usr/local/lib/python3.6/dist-packages (from transformers==2.11.0) (20.4)\n",
            "Requirement already satisfied: requests in /usr/local/lib/python3.6/dist-packages (from transformers==2.11.0) (2.23.0)\n",
            "Requirement already satisfied: numpy in /usr/local/lib/python3.6/dist-packages (from transformers==2.11.0) (1.18.5)\n",
            "Requirement already satisfied: dataclasses; python_version < \"3.7\" in /usr/local/lib/python3.6/dist-packages (from transformers==2.11.0) (0.7)\n",
            "Requirement already satisfied: six in /usr/local/lib/python3.6/dist-packages (from sacremoses->transformers==2.11.0) (1.15.0)\n",
            "Requirement already satisfied: click in /usr/local/lib/python3.6/dist-packages (from sacremoses->transformers==2.11.0) (7.1.2)\n",
            "Requirement already satisfied: joblib in /usr/local/lib/python3.6/dist-packages (from sacremoses->transformers==2.11.0) (0.17.0)\n",
            "Requirement already satisfied: pyparsing>=2.0.2 in /usr/local/lib/python3.6/dist-packages (from packaging->transformers==2.11.0) (2.4.7)\n",
            "Requirement already satisfied: chardet<4,>=3.0.2 in /usr/local/lib/python3.6/dist-packages (from requests->transformers==2.11.0) (3.0.4)\n",
            "Requirement already satisfied: urllib3!=1.25.0,!=1.25.1,<1.26,>=1.21.1 in /usr/local/lib/python3.6/dist-packages (from requests->transformers==2.11.0) (1.25.4)\n",
            "Requirement already satisfied: certifi>=2017.4.17 in /usr/local/lib/python3.6/dist-packages (from requests->transformers==2.11.0) (2020.6.20)\n",
            "Requirement already satisfied: idna<3,>=2.5 in /usr/local/lib/python3.6/dist-packages (from requests->transformers==2.11.0) (2.10)\n",
            "Installing collected packages: tokenizers, transformers\n",
            "Successfully installed tokenizers-0.7.0 transformers-2.11.0\n"
          ],
          "name": "stdout"
        }
      ]
    },
    {
      "cell_type": "code",
      "metadata": {
        "colab": {
          "base_uri": "https://localhost:8080/"
        },
        "id": "iX9nk8Ndfr3i",
        "outputId": "fff3966c-3a65-4e12-ef91-89daa237753c"
      },
      "source": [
        "!nvcc --version"
      ],
      "execution_count": null,
      "outputs": [
        {
          "output_type": "stream",
          "text": [
            "nvcc: NVIDIA (R) Cuda compiler driver\n",
            "Copyright (c) 2005-2019 NVIDIA Corporation\n",
            "Built on Sun_Jul_28_19:07:16_PDT_2019\n",
            "Cuda compilation tools, release 10.1, V10.1.243\n"
          ],
          "name": "stdout"
        }
      ]
    },
    {
      "cell_type": "code",
      "metadata": {
        "colab": {
          "base_uri": "https://localhost:8080/"
        },
        "id": "f-kmH86lfyBN",
        "outputId": "b8d9d0e5-286e-4db5-831b-759fae22076e"
      },
      "source": [
        "!nvidia-smi"
      ],
      "execution_count": null,
      "outputs": [
        {
          "output_type": "stream",
          "text": [
            "Wed Nov 18 05:14:40 2020       \n",
            "+-----------------------------------------------------------------------------+\n",
            "| NVIDIA-SMI 455.38       Driver Version: 418.67       CUDA Version: 10.1     |\n",
            "|-------------------------------+----------------------+----------------------+\n",
            "| GPU  Name        Persistence-M| Bus-Id        Disp.A | Volatile Uncorr. ECC |\n",
            "| Fan  Temp  Perf  Pwr:Usage/Cap|         Memory-Usage | GPU-Util  Compute M. |\n",
            "|                               |                      |               MIG M. |\n",
            "|===============================+======================+======================|\n",
            "|   0  Tesla P100-PCIE...  Off  | 00000000:00:04.0 Off |                    0 |\n",
            "| N/A   33C    P0    26W / 250W |      0MiB / 16280MiB |      0%      Default |\n",
            "|                               |                      |                 ERR! |\n",
            "+-------------------------------+----------------------+----------------------+\n",
            "                                                                               \n",
            "+-----------------------------------------------------------------------------+\n",
            "| Processes:                                                                  |\n",
            "|  GPU   GI   CI        PID   Type   Process name                  GPU Memory |\n",
            "|        ID   ID                                                   Usage      |\n",
            "|=============================================================================|\n",
            "|  No running processes found                                                 |\n",
            "+-----------------------------------------------------------------------------+\n"
          ],
          "name": "stdout"
        }
      ]
    },
    {
      "cell_type": "code",
      "metadata": {
        "colab": {
          "base_uri": "https://localhost:8080/"
        },
        "id": "E5oW5w82fdyW",
        "outputId": "833dbb5a-5a44-496b-f59e-5d75901aa630"
      },
      "source": [
        "!pip install torch==1.7.0+cu101 torchvision==0.8.1+cu101 torchaudio==0.7.0 -f https://download.pytorch.org/whl/torch_stable.html"
      ],
      "execution_count": null,
      "outputs": [
        {
          "output_type": "stream",
          "text": [
            "Looking in links: https://download.pytorch.org/whl/torch_stable.html\n",
            "Requirement already satisfied: torch==1.7.0+cu101 in /usr/local/lib/python3.6/dist-packages (1.7.0+cu101)\n",
            "Requirement already satisfied: torchvision==0.8.1+cu101 in /usr/local/lib/python3.6/dist-packages (0.8.1+cu101)\n",
            "Collecting torchaudio==0.7.0\n",
            "\u001b[?25l  Downloading https://files.pythonhosted.org/packages/3f/23/6b54106b3de029d3f10cf8debc302491c17630357449c900d6209665b302/torchaudio-0.7.0-cp36-cp36m-manylinux1_x86_64.whl (7.6MB)\n",
            "\u001b[K     |████████████████████████████████| 7.6MB 5.4MB/s \n",
            "\u001b[?25hRequirement already satisfied: numpy in /usr/local/lib/python3.6/dist-packages (from torch==1.7.0+cu101) (1.18.5)\n",
            "Requirement already satisfied: future in /usr/local/lib/python3.6/dist-packages (from torch==1.7.0+cu101) (0.16.0)\n",
            "Requirement already satisfied: dataclasses in /usr/local/lib/python3.6/dist-packages (from torch==1.7.0+cu101) (0.7)\n",
            "Requirement already satisfied: typing-extensions in /usr/local/lib/python3.6/dist-packages (from torch==1.7.0+cu101) (3.7.4.3)\n",
            "Requirement already satisfied: pillow>=4.1.1 in /usr/local/lib/python3.6/dist-packages (from torchvision==0.8.1+cu101) (7.0.0)\n",
            "Installing collected packages: torchaudio\n",
            "Successfully installed torchaudio-0.7.0\n"
          ],
          "name": "stdout"
        }
      ]
    },
    {
      "cell_type": "markdown",
      "metadata": {
        "id": "LkEdOk1Rh2eN"
      },
      "source": [
        "# Load Data"
      ]
    },
    {
      "cell_type": "code",
      "metadata": {
        "colab": {
          "base_uri": "https://localhost:8080/"
        },
        "id": "x45ObcZLhVNk",
        "outputId": "d3ec074c-f76b-4bfc-ffa0-755c840bc0b0"
      },
      "source": [
        "!wget http://ai.stanford.edu/~amaas/data/sentiment/aclImdb_v1.tar.gz\n",
        "!tar -xf aclImdb_v1.tar.gz\n"
      ],
      "execution_count": null,
      "outputs": [
        {
          "output_type": "stream",
          "text": [
            "--2020-11-18 05:14:44--  http://ai.stanford.edu/~amaas/data/sentiment/aclImdb_v1.tar.gz\n",
            "Resolving ai.stanford.edu (ai.stanford.edu)... 171.64.68.10\n",
            "Connecting to ai.stanford.edu (ai.stanford.edu)|171.64.68.10|:80... connected.\n",
            "HTTP request sent, awaiting response... 200 OK\n",
            "Length: 84125825 (80M) [application/x-gzip]\n",
            "Saving to: ‘aclImdb_v1.tar.gz’\n",
            "\n",
            "aclImdb_v1.tar.gz   100%[===================>]  80.23M  21.4MB/s    in 3.8s    \n",
            "\n",
            "2020-11-18 05:14:48 (21.4 MB/s) - ‘aclImdb_v1.tar.gz’ saved [84125825/84125825]\n",
            "\n"
          ],
          "name": "stdout"
        }
      ]
    },
    {
      "cell_type": "code",
      "metadata": {
        "colab": {
          "base_uri": "https://localhost:8080/"
        },
        "id": "9z2Bk3YEhV3o",
        "outputId": "ecd16aba-8f87-4a37-b427-33661e05138b"
      },
      "source": [
        "from google.colab import drive\n",
        "drive.mount('/content/gdrive')"
      ],
      "execution_count": null,
      "outputs": [
        {
          "output_type": "stream",
          "text": [
            "Mounted at /content/gdrive\n"
          ],
          "name": "stdout"
        }
      ]
    },
    {
      "cell_type": "code",
      "metadata": {
        "id": "oO0joJEEiE-u"
      },
      "source": [
        "DATA_PATH=\"/content/aclImdb/\""
      ],
      "execution_count": null,
      "outputs": []
    },
    {
      "cell_type": "code",
      "metadata": {
        "id": "--_UtcMjhWU2"
      },
      "source": [
        "from pathlib import Path\n",
        "from sklearn.model_selection import train_test_split\n",
        "\n",
        "def read_imdb_split(split_dir):\n",
        "    split_dir = Path(split_dir)\n",
        "    texts = []\n",
        "    labels = []\n",
        "    for label_dir in [\"pos\", \"neg\"]:\n",
        "        for text_file in (split_dir/label_dir).iterdir():\n",
        "            texts.append(text_file.read_text())\n",
        "            labels.append(0 if label_dir is \"neg\" else 1)\n",
        "\n",
        "    return texts, labels\n",
        "\n",
        "train_texts, train_labels = read_imdb_split(DATA_PATH+'train')\n",
        "test_texts, test_labels = read_imdb_split(DATA_PATH+'test')\n",
        "#train_texts, val_texts, train_labels, val_labels = train_test_split(train_texts, train_labels, test_size=.2)\n"
      ],
      "execution_count": null,
      "outputs": []
    },
    {
      "cell_type": "code",
      "metadata": {
        "id": "Ia5fEOz_HPsk"
      },
      "source": [
        "import logging\n",
        "import warnings\n",
        "  \n",
        "import torch\n",
        "import torch.nn as nn\n",
        "from torch.nn import CrossEntropyLoss, MSELoss\n",
        "\n",
        "\n",
        "from transformers.modeling_reformer import ReformerModel ,ReformerPreTrainedModel\n",
        "from transformers.configuration_reformer import ReformerConfig\n",
        "from transformers.file_utils import add_start_docstrings\n",
        "\n",
        "class ReformerClassificationHead(nn.Module):\n",
        "    \"\"\"Head for sentence-level classification tasks.\"\"\"\n",
        "\n",
        "    def __init__(self, config):\n",
        "        super().__init__()\n",
        "        self.dense = nn.Linear(2 * config.hidden_size, config.hidden_size)\n",
        "        # self.dropout = nn.Dropout(config.hidden_dropout_prob)\n",
        "        self.dropout = nn.Dropout(p=0.03)\n",
        "        self.out_proj = nn.Linear(config.hidden_size, config.num_labels)\n",
        "\n",
        "    def forward(self, features, **kwargs):\n",
        "        #x = features[:, 0, :]  # take <s> token (equiv. to [CLS])\n",
        "        x = torch.mean(features, dim=1)\n",
        "        x = self.dropout(x)\n",
        "        x = self.dense(x)\n",
        "        x = torch.tanh(x)\n",
        "        x = self.dropout(x)\n",
        "        x = self.out_proj(x)\n",
        "        return x\n",
        "\n",
        "REFORMER_START_DOCSTRING = r\"\"\"\n",
        "\n",
        "    This model is a PyTorch `torch.nn.Module <https://pytorch.org/docs/stable/nn.html#torch.nn.Module>`_ sub-class.\n",
        "    Use it as a regular PyTorch Module and refer to the PyTorch documentation for all matter related to general\n",
        "    usage and behavior.\n",
        "\n",
        "    Parameters:\n",
        "        config (:class:`~transformers.ReformerConfig`): Model configuration class with all the parameters of the\n",
        "            model. Initializing with a config file does not load the weights associated with the model, only the configuration.\n",
        "            Check out the :meth:`~transformers.PreTrainedModel.from_pretrained` method to load the model weights.\n",
        "\"\"\"\n",
        "\n",
        "@add_start_docstrings(\n",
        "    \"\"\"Reformer Model transformer with a sequence classification/regression head on top (a linear layer\n",
        "    on top of the pooled output) e.g. for GLUE tasks. \"\"\",\n",
        "    REFORMER_START_DOCSTRING,\n",
        ")\n",
        "class ReformerForSequenceClassification(ReformerPreTrainedModel):\n",
        "\n",
        "    config_class = ReformerConfig\n",
        "    base_model_prefix = \"reformer\"\n",
        "\n",
        "    def __init__(self, config):\n",
        "        super().__init__(config)\n",
        "        self.num_labels = config.num_labels\n",
        "\n",
        "        self.reformer = ReformerModel(config)\n",
        "        for param in self.reformer.parameters():\n",
        "            param.requires_grad=False\n",
        "        self.classifier = ReformerClassificationHead(config)\n",
        "\n",
        "        self.init_weights()\n",
        "\n",
        "        def get_output_embeddings(self):\n",
        "            return self.lm_head.decoder\n",
        "\n",
        "    def tie_weights(self):\n",
        "        # word embeddings are not tied in Reformer\n",
        "        pass\n",
        "\n",
        "    def forward(\n",
        "            self,\n",
        "            input_ids=None,\n",
        "            position_ids=None,\n",
        "            attention_mask=None,\n",
        "            head_mask=None,\n",
        "            inputs_embeds=None,\n",
        "            num_hashes=None,\n",
        "            labels=None,\n",
        "            do_output_hidden_states=False\n",
        "    ):\n",
        "\n",
        "        reformer_outputs = self.reformer(\n",
        "            input_ids,\n",
        "            position_ids=position_ids,\n",
        "            attention_mask=attention_mask,\n",
        "            head_mask=head_mask,\n",
        "            inputs_embeds=inputs_embeds,\n",
        "            num_hashes=num_hashes,\n",
        "            do_output_hidden_states=do_output_hidden_states\n",
        "        )\n",
        "        sequence_output = reformer_outputs[0]\n",
        "        logits = self.classifier(sequence_output)\n",
        "        outputs = (logits,) + reformer_outputs[1:]\n",
        "\n",
        "        if labels is not None:\n",
        "            if self.num_labels == 1:\n",
        "                #  We are doing regression\n",
        "                loss_fct = MSELoss()\n",
        "                loss = loss_fct(logits.view(-1), labels.view(-1))\n",
        "            else:\n",
        "                loss_fct = CrossEntropyLoss()\n",
        "                loss = loss_fct(logits.view(-1, self.num_labels), labels.view(-1))\n",
        "            outputs = (loss,) + outputs\n",
        "        return outputs  # (lm_loss), lm_logits, (hidden_states), (attentions)"
      ],
      "execution_count": null,
      "outputs": []
    },
    {
      "cell_type": "code",
      "metadata": {
        "id": "4GhKCfh6Cd5y",
        "colab": {
          "base_uri": "https://localhost:8080/",
          "height": 65,
          "referenced_widgets": [
            "56ef139d2f0748faa0e4e0743f70970d",
            "ffe2e0d3231d4ba6955630d604df6ad8",
            "45b1a2966ab8499abe63975d10478521",
            "6969143e211a4211ad4ec7a64669378d",
            "e311a0d1ccc44ccdb3beecdb648bbfe9",
            "86b3013466784edeafb6570c17101b20",
            "4eb5af61653445688ec681fe00f2951c",
            "7a8b72ed216048578bfb14ec082f4d57"
          ]
        },
        "outputId": "945ab6d0-a9ac-4f83-9fc7-ca360ecfd1b4"
      },
      "source": [
        "from transformers import ReformerTokenizer#, ReformerForSequenceClassification,ReformerModel\n",
        "import torch\n",
        "\n",
        "tokenizer = ReformerTokenizer.from_pretrained('google/reformer-crime-and-punishment', max_length=524288, pad_to_max_length=True)\n"
      ],
      "execution_count": null,
      "outputs": [
        {
          "output_type": "display_data",
          "data": {
            "application/vnd.jupyter.widget-view+json": {
              "model_id": "56ef139d2f0748faa0e4e0743f70970d",
              "version_minor": 0,
              "version_major": 2
            },
            "text/plain": [
              "HBox(children=(FloatProgress(value=0.0, description='Downloading', max=241801.0, style=ProgressStyle(descripti…"
            ]
          },
          "metadata": {
            "tags": []
          }
        },
        {
          "output_type": "stream",
          "text": [
            "\n"
          ],
          "name": "stdout"
        }
      ]
    },
    {
      "cell_type": "code",
      "metadata": {
        "id": "V5zEWIWGB-CA"
      },
      "source": [
        "\n",
        "from keras.preprocessing.sequence import pad_sequences\n",
        "from torch.utils.data import TensorDataset, DataLoader, RandomSampler, SequentialSampler\n",
        "MAX_LEN = 1024\n",
        "BATCH_SIZE = 4\n",
        "\n",
        "def prep_data(txts, lbls, batch_size):\n",
        "  tokenized_texts = [tokenizer.tokenize('<s>'+ sent +'</s>' ) for sent in txts]\n",
        "  input_ids = [tokenizer.convert_tokens_to_ids(x) for x in tokenized_texts]\n",
        "  input_ids = pad_sequences(input_ids, maxlen=MAX_LEN, dtype=\"long\", truncating=\"post\", padding=\"post\")\n",
        "\n",
        "  # Create attention masks\n",
        "  attention_masks = []\n",
        "\n",
        "  # Create a mask of 1s for each token followed by 0s for padding\n",
        "  for seq in input_ids:\n",
        "    seq_mask = [float(i>0) for i in seq]\n",
        "    attention_masks.append(seq_mask)\n",
        "  \n",
        "  inputs = torch.tensor(input_ids)\n",
        "  labels = torch.tensor(lbls)\n",
        "  masks = torch.tensor(attention_masks)\n",
        "  \n",
        "  data = TensorDataset(inputs, masks, labels)\n",
        "  #sampler = SequentialSampler(data)\n",
        "  dataloader = DataLoader(data, batch_size=batch_size, shuffle=True)\n",
        "\n",
        "  return dataloader"
      ],
      "execution_count": null,
      "outputs": []
    },
    {
      "cell_type": "code",
      "metadata": {
        "id": "C_95JcVSB-W2",
        "colab": {
          "base_uri": "https://localhost:8080/"
        },
        "outputId": "a32e34c2-eb8e-4780-fe69-769f9a4cd957"
      },
      "source": [
        "train_dataloader = prep_data(train_texts, train_labels,BATCH_SIZE)\n",
        "print('Train Done')\n",
        "test_dataloader = prep_data(test_texts, test_labels,BATCH_SIZE)\n",
        "print('Test Done')"
      ],
      "execution_count": null,
      "outputs": [
        {
          "output_type": "stream",
          "text": [
            "Train Done\n",
            "Test Done\n"
          ],
          "name": "stdout"
        }
      ]
    },
    {
      "cell_type": "code",
      "metadata": {
        "id": "EVbNaZcQB44-",
        "colab": {
          "base_uri": "https://localhost:8080/",
          "height": 1000,
          "referenced_widgets": [
            "50938de73e20487eb7143a9bbed88a5d",
            "eec9f573e2214381b2c9cd722806f092",
            "41fa0062dd6940b78625663952278e31",
            "15db725c8dc7427885400402d12c5d2f",
            "c249b39c4bf443ab8d68435a86629c90",
            "1e46b125b0c84b3ebea361abbe4d4460",
            "ab2461eaaae9431aba673e2d83a674a6",
            "550915a14eb247c997a145bce59b8a0f",
            "ce33545ac7f8440eb6758c9026ae119e",
            "d58fc58779a946c39b794a43a3b91587",
            "5a56f5e31ae04bc7986554b9a334fcf7",
            "19fe7f0d5ceb4f1ea70429f059da624b",
            "a4641d43a2bf4bceaf1d7e30cadd2c49",
            "0b5beb074a2543e8a0e9a3be6f37f400",
            "30f4494cec12489b88f820c0678bd525",
            "a9ad529fb5cf40759c1f3634a794cecf"
          ]
        },
        "outputId": "77a9e34e-b830-45ee-b38f-f17d3743b0a7"
      },
      "source": [
        "model =  ReformerForSequenceClassification.from_pretrained('google/reformer-crime-and-punishment', num_labels = 2, output_attentions = False,output_hidden_states = False, )\n",
        "model.cuda()"
      ],
      "execution_count": null,
      "outputs": [
        {
          "output_type": "display_data",
          "data": {
            "application/vnd.jupyter.widget-view+json": {
              "model_id": "50938de73e20487eb7143a9bbed88a5d",
              "version_minor": 0,
              "version_major": 2
            },
            "text/plain": [
              "HBox(children=(FloatProgress(value=0.0, description='Downloading', max=1151.0, style=ProgressStyle(description…"
            ]
          },
          "metadata": {
            "tags": []
          }
        },
        {
          "output_type": "stream",
          "text": [
            "\n"
          ],
          "name": "stdout"
        },
        {
          "output_type": "display_data",
          "data": {
            "application/vnd.jupyter.widget-view+json": {
              "model_id": "ce33545ac7f8440eb6758c9026ae119e",
              "version_minor": 0,
              "version_major": 2
            },
            "text/plain": [
              "HBox(children=(FloatProgress(value=0.0, description='Downloading', max=11013576.0, style=ProgressStyle(descrip…"
            ]
          },
          "metadata": {
            "tags": []
          }
        },
        {
          "output_type": "stream",
          "text": [
            "\n"
          ],
          "name": "stdout"
        },
        {
          "output_type": "stream",
          "text": [
            "/usr/local/lib/python3.6/dist-packages/torch/nn/modules/container.py:434: UserWarning: Setting attributes on ParameterList is not supported.\n",
            "  warnings.warn(\"Setting attributes on ParameterList is not supported.\")\n"
          ],
          "name": "stderr"
        },
        {
          "output_type": "execute_result",
          "data": {
            "text/plain": [
              "ReformerForSequenceClassification(\n",
              "  (reformer): ReformerModel(\n",
              "    (embeddings): ReformerEmbeddings(\n",
              "      (word_embeddings): Embedding(320, 256)\n",
              "      (position_embeddings): AxialPositionEmbeddings(\n",
              "        (weights): ParameterList(\n",
              "            (0): Parameter containing: [torch.cuda.FloatTensor of size 512x1x64 (GPU 0)]\n",
              "            (1): Parameter containing: [torch.cuda.FloatTensor of size 1x1024x192 (GPU 0)]\n",
              "        )\n",
              "      )\n",
              "    )\n",
              "    (encoder): ReformerEncoder(\n",
              "      (layers): ModuleList(\n",
              "        (0): ReformerLayer(\n",
              "          (attention): ReformerAttention(\n",
              "            (layer_norm): LayerNorm((256,), eps=1e-12, elementwise_affine=True)\n",
              "            (self_attention): LocalSelfAttention(\n",
              "              (query): Linear(in_features=256, out_features=128, bias=False)\n",
              "              (key): Linear(in_features=256, out_features=128, bias=False)\n",
              "              (value): Linear(in_features=256, out_features=128, bias=False)\n",
              "            )\n",
              "            (output): ReformerSelfOutput(\n",
              "              (dense): Linear(in_features=128, out_features=256, bias=False)\n",
              "            )\n",
              "          )\n",
              "          (feed_forward): ChunkReformerFeedForward(\n",
              "            (layer_norm): LayerNorm((256,), eps=1e-12, elementwise_affine=True)\n",
              "            (dense): ReformerFeedForwardDense(\n",
              "              (dense): Linear(in_features=256, out_features=512, bias=True)\n",
              "            )\n",
              "            (output): ReformerFeedForwardOutput(\n",
              "              (dense): Linear(in_features=512, out_features=256, bias=True)\n",
              "            )\n",
              "          )\n",
              "        )\n",
              "        (1): ReformerLayer(\n",
              "          (attention): ReformerAttention(\n",
              "            (layer_norm): LayerNorm((256,), eps=1e-12, elementwise_affine=True)\n",
              "            (self_attention): LSHSelfAttention(\n",
              "              (query_key): Linear(in_features=256, out_features=128, bias=False)\n",
              "              (value): Linear(in_features=256, out_features=128, bias=False)\n",
              "            )\n",
              "            (output): ReformerSelfOutput(\n",
              "              (dense): Linear(in_features=128, out_features=256, bias=False)\n",
              "            )\n",
              "          )\n",
              "          (feed_forward): ChunkReformerFeedForward(\n",
              "            (layer_norm): LayerNorm((256,), eps=1e-12, elementwise_affine=True)\n",
              "            (dense): ReformerFeedForwardDense(\n",
              "              (dense): Linear(in_features=256, out_features=512, bias=True)\n",
              "            )\n",
              "            (output): ReformerFeedForwardOutput(\n",
              "              (dense): Linear(in_features=512, out_features=256, bias=True)\n",
              "            )\n",
              "          )\n",
              "        )\n",
              "        (2): ReformerLayer(\n",
              "          (attention): ReformerAttention(\n",
              "            (layer_norm): LayerNorm((256,), eps=1e-12, elementwise_affine=True)\n",
              "            (self_attention): LocalSelfAttention(\n",
              "              (query): Linear(in_features=256, out_features=128, bias=False)\n",
              "              (key): Linear(in_features=256, out_features=128, bias=False)\n",
              "              (value): Linear(in_features=256, out_features=128, bias=False)\n",
              "            )\n",
              "            (output): ReformerSelfOutput(\n",
              "              (dense): Linear(in_features=128, out_features=256, bias=False)\n",
              "            )\n",
              "          )\n",
              "          (feed_forward): ChunkReformerFeedForward(\n",
              "            (layer_norm): LayerNorm((256,), eps=1e-12, elementwise_affine=True)\n",
              "            (dense): ReformerFeedForwardDense(\n",
              "              (dense): Linear(in_features=256, out_features=512, bias=True)\n",
              "            )\n",
              "            (output): ReformerFeedForwardOutput(\n",
              "              (dense): Linear(in_features=512, out_features=256, bias=True)\n",
              "            )\n",
              "          )\n",
              "        )\n",
              "        (3): ReformerLayer(\n",
              "          (attention): ReformerAttention(\n",
              "            (layer_norm): LayerNorm((256,), eps=1e-12, elementwise_affine=True)\n",
              "            (self_attention): LSHSelfAttention(\n",
              "              (query_key): Linear(in_features=256, out_features=128, bias=False)\n",
              "              (value): Linear(in_features=256, out_features=128, bias=False)\n",
              "            )\n",
              "            (output): ReformerSelfOutput(\n",
              "              (dense): Linear(in_features=128, out_features=256, bias=False)\n",
              "            )\n",
              "          )\n",
              "          (feed_forward): ChunkReformerFeedForward(\n",
              "            (layer_norm): LayerNorm((256,), eps=1e-12, elementwise_affine=True)\n",
              "            (dense): ReformerFeedForwardDense(\n",
              "              (dense): Linear(in_features=256, out_features=512, bias=True)\n",
              "            )\n",
              "            (output): ReformerFeedForwardOutput(\n",
              "              (dense): Linear(in_features=512, out_features=256, bias=True)\n",
              "            )\n",
              "          )\n",
              "        )\n",
              "        (4): ReformerLayer(\n",
              "          (attention): ReformerAttention(\n",
              "            (layer_norm): LayerNorm((256,), eps=1e-12, elementwise_affine=True)\n",
              "            (self_attention): LocalSelfAttention(\n",
              "              (query): Linear(in_features=256, out_features=128, bias=False)\n",
              "              (key): Linear(in_features=256, out_features=128, bias=False)\n",
              "              (value): Linear(in_features=256, out_features=128, bias=False)\n",
              "            )\n",
              "            (output): ReformerSelfOutput(\n",
              "              (dense): Linear(in_features=128, out_features=256, bias=False)\n",
              "            )\n",
              "          )\n",
              "          (feed_forward): ChunkReformerFeedForward(\n",
              "            (layer_norm): LayerNorm((256,), eps=1e-12, elementwise_affine=True)\n",
              "            (dense): ReformerFeedForwardDense(\n",
              "              (dense): Linear(in_features=256, out_features=512, bias=True)\n",
              "            )\n",
              "            (output): ReformerFeedForwardOutput(\n",
              "              (dense): Linear(in_features=512, out_features=256, bias=True)\n",
              "            )\n",
              "          )\n",
              "        )\n",
              "        (5): ReformerLayer(\n",
              "          (attention): ReformerAttention(\n",
              "            (layer_norm): LayerNorm((256,), eps=1e-12, elementwise_affine=True)\n",
              "            (self_attention): LSHSelfAttention(\n",
              "              (query_key): Linear(in_features=256, out_features=128, bias=False)\n",
              "              (value): Linear(in_features=256, out_features=128, bias=False)\n",
              "            )\n",
              "            (output): ReformerSelfOutput(\n",
              "              (dense): Linear(in_features=128, out_features=256, bias=False)\n",
              "            )\n",
              "          )\n",
              "          (feed_forward): ChunkReformerFeedForward(\n",
              "            (layer_norm): LayerNorm((256,), eps=1e-12, elementwise_affine=True)\n",
              "            (dense): ReformerFeedForwardDense(\n",
              "              (dense): Linear(in_features=256, out_features=512, bias=True)\n",
              "            )\n",
              "            (output): ReformerFeedForwardOutput(\n",
              "              (dense): Linear(in_features=512, out_features=256, bias=True)\n",
              "            )\n",
              "          )\n",
              "        )\n",
              "      )\n",
              "      (layer_norm): LayerNorm((512,), eps=1e-12, elementwise_affine=True)\n",
              "    )\n",
              "  )\n",
              "  (classifier): ReformerClassificationHead(\n",
              "    (dense): Linear(in_features=512, out_features=256, bias=True)\n",
              "    (dropout): Dropout(p=0.03, inplace=False)\n",
              "    (out_proj): Linear(in_features=256, out_features=2, bias=True)\n",
              "  )\n",
              ")"
            ]
          },
          "metadata": {
            "tags": []
          },
          "execution_count": 14
        }
      ]
    },
    {
      "cell_type": "code",
      "metadata": {
        "id": "VfVZMmB9E0oz"
      },
      "source": [
        "from pytorch_transformers import AdamW\n",
        "\n",
        "# This variable contains all of the hyperparemeter information our training loop needs\n",
        "lr = 3e-3\n",
        "optimizer = AdamW(model.classifier.parameters(), lr=lr)\n"
      ],
      "execution_count": null,
      "outputs": []
    },
    {
      "cell_type": "code",
      "metadata": {
        "id": "zAl2Ki6hE1Na",
        "colab": {
          "base_uri": "https://localhost:8080/",
          "height": 35
        },
        "outputId": "61a0b538-60d6-46bf-c6d2-d0a08ff2cc19"
      },
      "source": [
        "# device = torch.device(\"cuda:0\" if torch.cuda.is_available() else \"cpu\")\n",
        "device = torch.device(\"cuda:0\" if torch.cuda.is_available() else \"cpu\")\n",
        "torch.cuda.set_device(device)\n",
        "n_gpu = torch.cuda.device_count()\n",
        "torch.cuda.empty_cache()\n",
        "torch.cuda.get_device_name(0)"
      ],
      "execution_count": null,
      "outputs": [
        {
          "output_type": "execute_result",
          "data": {
            "application/vnd.google.colaboratory.intrinsic+json": {
              "type": "string"
            },
            "text/plain": [
              "'Tesla P100-PCIE-16GB'"
            ]
          },
          "metadata": {
            "tags": []
          },
          "execution_count": 16
        }
      ]
    },
    {
      "cell_type": "code",
      "metadata": {
        "id": "e7M9NZ76E1Zh",
        "colab": {
          "base_uri": "https://localhost:8080/"
        },
        "outputId": "e7701b96-0c9b-4a0c-fab1-6616efd6a084"
      },
      "source": [
        "from tqdm import tqdm, trange\n",
        "from datetime import datetime\n",
        "\n",
        "train_loss_set = []\n",
        "\n",
        "# Tracking variables \n",
        "predictions , true_labels = [], []\n",
        "\n",
        "# Number of training epochs (authors recommend between 2 and 4)\n",
        "epochs = 5\n",
        "model.train()\n",
        "model.reformer.eval()\n",
        "for p in model.reformer.parameters():\n",
        "  p.requires_grad = False\n",
        "for p in model.classifier.parameters():\n",
        "  p.requires_grad = True\n",
        "# trange is a tqdm wrapper around the normal python range\n",
        "for _ in range(epochs):\n",
        "  \n",
        "    # Training\n",
        "    print(f'type for Model is {type(model)}')\n",
        "    train_start = datetime.now()\n",
        "  \n",
        "    # Tracking variables\n",
        "    tr_loss = 0\n",
        "    nb_tr_examples, nb_tr_steps = 0, 0\n",
        "    accumulation_steps = 2 # related to the gradient accumulation\n",
        "  \n",
        "    # Train the data for one epoch\n",
        "    \n",
        "    with tqdm(total=len(train_dataloader)) as pbar:\n",
        "      for step, batch in enumerate(train_dataloader):\n",
        "          optimizer.zero_grad()\n",
        "          batch = tuple(t.long().to(device) for t in batch)\n",
        "          b_input_ids, b_input_mask, b_labels = batch\n",
        "          \n",
        "          # Forward pass\n",
        "          outputs = model(b_input_ids, attention_mask=b_input_mask, labels=b_labels)\n",
        "          loss = outputs[0] \n",
        "          loss = loss / accumulation_steps \n",
        "          # Backward pass\n",
        "          loss.backward()\n",
        "          optimizer.step()\n",
        "\n",
        "              \n",
        "\n",
        "          # Update tracking variables\n",
        "          tr_loss += loss.item()\n",
        "          nb_tr_examples += b_input_ids.size(0)\n",
        "          nb_tr_steps += 1\n",
        "          pbar.update(1)\n",
        "          if step%1000==0:\n",
        "            print(\"Train loss: {}\".format(tr_loss/nb_tr_steps))\n",
        "            #if step==2000:\n",
        "            #  break\n",
        "    train_end = datetime.now()\n",
        "    print(\"EPOCH Train loss: {}\".format(tr_loss/nb_tr_steps))\n",
        "    #print(\"Training started at\", train_start)\n",
        "    #print(\"Training ended at\", train_end)\n",
        "    print(\"Time to train:\", train_end - train_start)\n",
        "    \n",
        "    "
      ],
      "execution_count": null,
      "outputs": [
        {
          "output_type": "stream",
          "text": [
            "/usr/local/lib/python3.6/dist-packages/torch/nn/modules/container.py:434: UserWarning: Setting attributes on ParameterList is not supported.\n",
            "  warnings.warn(\"Setting attributes on ParameterList is not supported.\")\n",
            "  0%|          | 3/6250 [00:00<03:59, 26.04it/s]"
          ],
          "name": "stderr"
        },
        {
          "output_type": "stream",
          "text": [
            "type for Model is <class '__main__.ReformerForSequenceClassification'>\n",
            "Train loss: 0.4644114375114441\n"
          ],
          "name": "stdout"
        },
        {
          "output_type": "stream",
          "text": [
            " 16%|█▌        | 1005/6250 [00:34<03:00, 29.13it/s]"
          ],
          "name": "stderr"
        },
        {
          "output_type": "stream",
          "text": [
            "Train loss: 0.3380077459870816\n"
          ],
          "name": "stdout"
        },
        {
          "output_type": "stream",
          "text": [
            " 32%|███▏      | 2006/6250 [01:08<02:24, 29.39it/s]"
          ],
          "name": "stderr"
        },
        {
          "output_type": "stream",
          "text": [
            "Train loss: 0.33866936792579966\n"
          ],
          "name": "stdout"
        },
        {
          "output_type": "stream",
          "text": [
            " 48%|████▊     | 3004/6250 [01:42<01:51, 29.17it/s]"
          ],
          "name": "stderr"
        },
        {
          "output_type": "stream",
          "text": [
            "Train loss: 0.3401864397338592\n"
          ],
          "name": "stdout"
        },
        {
          "output_type": "stream",
          "text": [
            " 64%|██████▍   | 4004/6250 [02:16<01:16, 29.18it/s]"
          ],
          "name": "stderr"
        },
        {
          "output_type": "stream",
          "text": [
            "Train loss: 0.33907404849042716\n"
          ],
          "name": "stdout"
        },
        {
          "output_type": "stream",
          "text": [
            " 80%|████████  | 5005/6250 [02:50<00:42, 29.63it/s]"
          ],
          "name": "stderr"
        },
        {
          "output_type": "stream",
          "text": [
            "Train loss: 0.33912617919105836\n"
          ],
          "name": "stdout"
        },
        {
          "output_type": "stream",
          "text": [
            " 96%|█████████▌| 6006/6250 [03:24<00:08, 29.76it/s]"
          ],
          "name": "stderr"
        },
        {
          "output_type": "stream",
          "text": [
            "Train loss: 0.3396750324689891\n"
          ],
          "name": "stdout"
        },
        {
          "output_type": "stream",
          "text": [
            "100%|██████████| 6250/6250 [03:32<00:00, 29.40it/s]\n",
            "  0%|          | 3/6250 [00:00<03:32, 29.39it/s]"
          ],
          "name": "stderr"
        },
        {
          "output_type": "stream",
          "text": [
            "EPOCH Train loss: 0.3402697041481733\n",
            "Time to train: 0:03:32.570957\n",
            "type for Model is <class '__main__.ReformerForSequenceClassification'>\n",
            "Train loss: 0.3968117833137512\n"
          ],
          "name": "stdout"
        },
        {
          "output_type": "stream",
          "text": [
            " 16%|█▌        | 1006/6250 [00:34<03:01, 28.82it/s]"
          ],
          "name": "stderr"
        },
        {
          "output_type": "stream",
          "text": [
            "Train loss: 0.3316072171161344\n"
          ],
          "name": "stdout"
        },
        {
          "output_type": "stream",
          "text": [
            " 32%|███▏      | 2004/6250 [01:08<02:30, 28.17it/s]"
          ],
          "name": "stderr"
        },
        {
          "output_type": "stream",
          "text": [
            "Train loss: 0.3326242652622567\n"
          ],
          "name": "stdout"
        },
        {
          "output_type": "stream",
          "text": [
            " 48%|████▊     | 3004/6250 [01:43<01:52, 28.90it/s]"
          ],
          "name": "stderr"
        },
        {
          "output_type": "stream",
          "text": [
            "Train loss: 0.3339547247652887\n"
          ],
          "name": "stdout"
        },
        {
          "output_type": "stream",
          "text": [
            " 64%|██████▍   | 4005/6250 [02:17<01:15, 29.57it/s]"
          ],
          "name": "stderr"
        },
        {
          "output_type": "stream",
          "text": [
            "Train loss: 0.33690654490887\n"
          ],
          "name": "stdout"
        },
        {
          "output_type": "stream",
          "text": [
            " 80%|████████  | 5004/6250 [02:51<00:42, 29.35it/s]"
          ],
          "name": "stderr"
        },
        {
          "output_type": "stream",
          "text": [
            "Train loss: 0.34199106165909443\n"
          ],
          "name": "stdout"
        },
        {
          "output_type": "stream",
          "text": [
            " 96%|█████████▌| 6005/6250 [03:25<00:08, 29.50it/s]"
          ],
          "name": "stderr"
        },
        {
          "output_type": "stream",
          "text": [
            "Train loss: 0.34106431695015116\n"
          ],
          "name": "stdout"
        },
        {
          "output_type": "stream",
          "text": [
            "100%|██████████| 6250/6250 [03:34<00:00, 29.19it/s]\n",
            "  0%|          | 3/6250 [00:00<03:30, 29.62it/s]"
          ],
          "name": "stderr"
        },
        {
          "output_type": "stream",
          "text": [
            "EPOCH Train loss: 0.3400583667102456\n",
            "Time to train: 0:03:34.083681\n",
            "type for Model is <class '__main__.ReformerForSequenceClassification'>\n",
            "Train loss: 0.2214653640985489\n"
          ],
          "name": "stdout"
        },
        {
          "output_type": "stream",
          "text": [
            " 16%|█▌        | 1006/6250 [00:34<02:58, 29.43it/s]"
          ],
          "name": "stderr"
        },
        {
          "output_type": "stream",
          "text": [
            "Train loss: 0.3416529524807151\n"
          ],
          "name": "stdout"
        },
        {
          "output_type": "stream",
          "text": [
            " 32%|███▏      | 2005/6250 [01:08<02:24, 29.42it/s]"
          ],
          "name": "stderr"
        },
        {
          "output_type": "stream",
          "text": [
            "Train loss: 0.34240973288140286\n"
          ],
          "name": "stdout"
        },
        {
          "output_type": "stream",
          "text": [
            " 48%|████▊     | 3006/6250 [01:42<01:49, 29.66it/s]"
          ],
          "name": "stderr"
        },
        {
          "output_type": "stream",
          "text": [
            "Train loss: 0.33809926101062115\n"
          ],
          "name": "stdout"
        },
        {
          "output_type": "stream",
          "text": [
            " 64%|██████▍   | 4006/6250 [02:16<01:16, 29.47it/s]"
          ],
          "name": "stderr"
        },
        {
          "output_type": "stream",
          "text": [
            "Train loss: 0.339856469124077\n"
          ],
          "name": "stdout"
        },
        {
          "output_type": "stream",
          "text": [
            " 80%|████████  | 5006/6250 [02:50<00:42, 29.28it/s]"
          ],
          "name": "stderr"
        },
        {
          "output_type": "stream",
          "text": [
            "Train loss: 0.33907011589879\n"
          ],
          "name": "stdout"
        },
        {
          "output_type": "stream",
          "text": [
            " 96%|█████████▌| 6006/6250 [03:24<00:08, 29.30it/s]"
          ],
          "name": "stderr"
        },
        {
          "output_type": "stream",
          "text": [
            "Train loss: 0.34037342424265615\n"
          ],
          "name": "stdout"
        },
        {
          "output_type": "stream",
          "text": [
            "100%|██████████| 6250/6250 [03:32<00:00, 29.38it/s]\n",
            "  0%|          | 3/6250 [00:00<03:32, 29.45it/s]"
          ],
          "name": "stderr"
        },
        {
          "output_type": "stream",
          "text": [
            "EPOCH Train loss: 0.3405767035058141\n",
            "Time to train: 0:03:32.764315\n",
            "type for Model is <class '__main__.ReformerForSequenceClassification'>\n",
            "Train loss: 0.2412068247795105\n"
          ],
          "name": "stdout"
        },
        {
          "output_type": "stream",
          "text": [
            " 16%|█▌        | 1004/6250 [00:34<02:58, 29.38it/s]"
          ],
          "name": "stderr"
        },
        {
          "output_type": "stream",
          "text": [
            "Train loss: 0.3414485930827084\n"
          ],
          "name": "stdout"
        },
        {
          "output_type": "stream",
          "text": [
            " 32%|███▏      | 2007/6250 [01:08<02:24, 29.40it/s]"
          ],
          "name": "stderr"
        },
        {
          "output_type": "stream",
          "text": [
            "Train loss: 0.34039692646790776\n"
          ],
          "name": "stdout"
        },
        {
          "output_type": "stream",
          "text": [
            " 48%|████▊     | 3005/6250 [01:42<01:50, 29.25it/s]"
          ],
          "name": "stderr"
        },
        {
          "output_type": "stream",
          "text": [
            "Train loss: 0.3389552654049886\n"
          ],
          "name": "stdout"
        },
        {
          "output_type": "stream",
          "text": [
            " 64%|██████▍   | 4005/6250 [02:16<01:15, 29.79it/s]"
          ],
          "name": "stderr"
        },
        {
          "output_type": "stream",
          "text": [
            "Train loss: 0.3377783805452207\n"
          ],
          "name": "stdout"
        },
        {
          "output_type": "stream",
          "text": [
            " 80%|████████  | 5004/6250 [02:50<00:42, 29.17it/s]"
          ],
          "name": "stderr"
        },
        {
          "output_type": "stream",
          "text": [
            "Train loss: 0.3384212444893386\n"
          ],
          "name": "stdout"
        },
        {
          "output_type": "stream",
          "text": [
            " 96%|█████████▌| 6004/6250 [03:24<00:08, 29.36it/s]"
          ],
          "name": "stderr"
        },
        {
          "output_type": "stream",
          "text": [
            "Train loss: 0.3395951887944344\n"
          ],
          "name": "stdout"
        },
        {
          "output_type": "stream",
          "text": [
            "100%|██████████| 6250/6250 [03:32<00:00, 29.36it/s]\n",
            "  0%|          | 3/6250 [00:00<03:32, 29.40it/s]"
          ],
          "name": "stderr"
        },
        {
          "output_type": "stream",
          "text": [
            "EPOCH Train loss: 0.34038099050819876\n",
            "Time to train: 0:03:32.902565\n",
            "type for Model is <class '__main__.ReformerForSequenceClassification'>\n",
            "Train loss: 0.2422051727771759\n"
          ],
          "name": "stdout"
        },
        {
          "output_type": "stream",
          "text": [
            " 16%|█▌        | 1005/6250 [00:34<02:57, 29.53it/s]"
          ],
          "name": "stderr"
        },
        {
          "output_type": "stream",
          "text": [
            "Train loss: 0.34296248919450556\n"
          ],
          "name": "stdout"
        },
        {
          "output_type": "stream",
          "text": [
            " 32%|███▏      | 2005/6250 [01:08<02:26, 29.01it/s]"
          ],
          "name": "stderr"
        },
        {
          "output_type": "stream",
          "text": [
            "Train loss: 0.33794927348879383\n"
          ],
          "name": "stdout"
        },
        {
          "output_type": "stream",
          "text": [
            " 48%|████▊     | 3004/6250 [01:42<01:52, 28.79it/s]"
          ],
          "name": "stderr"
        },
        {
          "output_type": "stream",
          "text": [
            "Train loss: 0.34183214084604946\n"
          ],
          "name": "stdout"
        },
        {
          "output_type": "stream",
          "text": [
            " 64%|██████▍   | 4005/6250 [02:16<01:16, 29.37it/s]"
          ],
          "name": "stderr"
        },
        {
          "output_type": "stream",
          "text": [
            "Train loss: 0.34046156593114024\n"
          ],
          "name": "stdout"
        },
        {
          "output_type": "stream",
          "text": [
            " 80%|████████  | 5006/6250 [02:50<00:42, 29.60it/s]"
          ],
          "name": "stderr"
        },
        {
          "output_type": "stream",
          "text": [
            "Train loss: 0.3409142763609202\n"
          ],
          "name": "stdout"
        },
        {
          "output_type": "stream",
          "text": [
            " 96%|█████████▌| 6006/6250 [03:24<00:08, 29.27it/s]"
          ],
          "name": "stderr"
        },
        {
          "output_type": "stream",
          "text": [
            "Train loss: 0.34329091034919007\n"
          ],
          "name": "stdout"
        },
        {
          "output_type": "stream",
          "text": [
            "100%|██████████| 6250/6250 [03:33<00:00, 29.33it/s]"
          ],
          "name": "stderr"
        },
        {
          "output_type": "stream",
          "text": [
            "EPOCH Train loss: 0.34263646236151457\n",
            "Time to train: 0:03:33.104776\n"
          ],
          "name": "stdout"
        },
        {
          "output_type": "stream",
          "text": [
            "\n"
          ],
          "name": "stderr"
        }
      ]
    },
    {
      "cell_type": "code",
      "metadata": {
        "id": "6tQxCWBYQEfp",
        "colab": {
          "base_uri": "https://localhost:8080/",
          "height": 119,
          "referenced_widgets": [
            "03cac3da00bb4a0e841b129ecbdd41f6",
            "7609f1a7693f49e0927d920e424b1425",
            "6d862cc375e44c1e98170f85a5d01410",
            "035f4076f3ef47b3a5f1ae4720af1766",
            "d36a2aa492524014bfcfcff1988b2d98",
            "9301857c09ec4e5a97bc530e9e7d8ca0",
            "0e0769902741415a8eb3034d8080623b",
            "57df88a65fa74830a63e7f37a56a46ba"
          ]
        },
        "outputId": "b8c2912c-2f2e-47b6-81b1-c7427386d232"
      },
      "source": [
        "from tqdm.notebook import tqdm\n",
        "\n",
        "model.eval()\n",
        "fin_targets=[]\n",
        "fin_outputs=[]\n",
        "with torch.no_grad():\n",
        "      with tqdm(total=len(test_dataloader)) as pbar:\n",
        "        for _, data in enumerate(test_dataloader, 0):\n",
        "            batch = tuple(t.long().to(device) for t in data)\n",
        "            ids, mask, labels = batch\n",
        "            outputs = model(ids, attention_mask=mask, labels=labels)[1]\n",
        "            \n",
        "            fin_targets.extend(labels.cpu().detach().numpy().tolist())\n",
        "            fin_outputs.extend(torch.sigmoid(outputs).cpu().detach().numpy().tolist())\n",
        "            pbar.update(1)\n"
      ],
      "execution_count": null,
      "outputs": [
        {
          "output_type": "stream",
          "text": [
            "/usr/local/lib/python3.6/dist-packages/torch/nn/modules/container.py:434: UserWarning: Setting attributes on ParameterList is not supported.\n",
            "  warnings.warn(\"Setting attributes on ParameterList is not supported.\")\n"
          ],
          "name": "stderr"
        },
        {
          "output_type": "display_data",
          "data": {
            "application/vnd.jupyter.widget-view+json": {
              "model_id": "03cac3da00bb4a0e841b129ecbdd41f6",
              "version_minor": 0,
              "version_major": 2
            },
            "text/plain": [
              "HBox(children=(FloatProgress(value=0.0, max=6250.0), HTML(value='')))"
            ]
          },
          "metadata": {
            "tags": []
          }
        },
        {
          "output_type": "stream",
          "text": [
            "\n"
          ],
          "name": "stdout"
        }
      ]
    },
    {
      "cell_type": "code",
      "metadata": {
        "id": "xvbI4qMyUzcO"
      },
      "source": [
        "import numpy as np\n",
        "from sklearn import metrics\n",
        "from sklearn.metrics import precision_recall_fscore_support,average_precision_score, roc_auc_score\n",
        "\n",
        "def print_result(fin_outputs,fin_targets):\n",
        "  outputs = np.argmax(fin_outputs,axis=1)\n",
        "\n",
        "  accuracy = metrics.accuracy_score(fin_targets, outputs)\n",
        "  f1_score_micro = metrics.f1_score(fin_targets, outputs, average='micro')\n",
        "  f1_score_macro = metrics.f1_score(fin_targets, outputs, average='macro')\n",
        "  print(f\"Accuracy Score = {accuracy}\")\n",
        "  print(\"P, R, F1\", precision_recall_fscore_support(fin_targets, outputs, average=None))\n",
        "  print(\"AP: \",average_precision_score(fin_targets,outputs))\n",
        "  print(\"AUC: \",roc_auc_score(fin_targets,outputs))\n"
      ],
      "execution_count": null,
      "outputs": []
    },
    {
      "cell_type": "code",
      "metadata": {
        "colab": {
          "base_uri": "https://localhost:8080/"
        },
        "id": "75htNEXa9xHU",
        "outputId": "25a7a462-eb50-492a-8515-47d0901b9ab8"
      },
      "source": [
        "# Test e5 lr3e-3\n",
        "print_result(fin_outputs,fin_targets)\n"
      ],
      "execution_count": null,
      "outputs": [
        {
          "output_type": "stream",
          "text": [
            "Accuracy Score = 0.59208\n",
            "P, R, F1 (array([0.74231579, 0.55683951]), array([0.28208, 0.90208]), array([0.40881159, 0.68861069]), array([12500, 12500]))\n",
            "AP:  0.551273781728395\n",
            "AUC:  0.5920799999999999\n"
          ],
          "name": "stdout"
        }
      ]
    },
    {
      "cell_type": "code",
      "metadata": {
        "colab": {
          "base_uri": "https://localhost:8080/"
        },
        "id": "1z6BiqzVWToz",
        "outputId": "77e2ee66-a87c-414e-8f62-8619ffec6f11"
      },
      "source": [
        "# Test e10 lr3e-3\n",
        "print_result(fin_outputs,fin_targets)\n"
      ],
      "execution_count": null,
      "outputs": [
        {
          "output_type": "stream",
          "text": [
            "Accuracy Score = 0.6146\n",
            "P, R, F1 (array([0.61750472, 0.61183543]), array([0.60224, 0.62696]), array([0.60977684, 0.61930539]), array([12500, 12500]))\n",
            "AP:  0.5701163400733859\n",
            "AUC:  0.6146\n"
          ],
          "name": "stdout"
        }
      ]
    },
    {
      "cell_type": "code",
      "metadata": {
        "colab": {
          "base_uri": "https://localhost:8080/"
        },
        "id": "FYN1ltLkkeeo",
        "outputId": "5441174f-7dac-48a2-f99c-3016e32f7ba5"
      },
      "source": [
        "# Test e15 lr3e-3\n",
        "print_result(fin_outputs,fin_targets)\n"
      ],
      "execution_count": null,
      "outputs": [
        {
          "output_type": "stream",
          "text": [
            "Accuracy Score = 0.66132\n",
            "P, R, F1 (array([0.61279857, 0.78309701]), array([0.8764 , 0.44624]), array([0.72126938, 0.56851654]), array([12500, 12500]))\n",
            "AP:  0.6263292096026956\n",
            "AUC:  0.6613199999999999\n"
          ],
          "name": "stdout"
        }
      ]
    },
    {
      "cell_type": "code",
      "metadata": {
        "colab": {
          "base_uri": "https://localhost:8080/"
        },
        "id": "QFkpD5LNE1hZ",
        "outputId": "ece97cfe-d61b-4f88-eb0f-11f6e6faccb9"
      },
      "source": [
        "# Test e20 lr3e-3\n",
        "print_result(fin_outputs,fin_targets)\n"
      ],
      "execution_count": null,
      "outputs": [
        {
          "output_type": "stream",
          "text": [
            "Accuracy Score = 0.68908\n",
            "P, R, F1 (array([0.65479075, 0.74288357]), array([0.79984, 0.57832]), array([0.72008355, 0.65035311]), array([12500, 12500]))\n",
            "AP:  0.6404644250333984\n",
            "AUC:  0.6890799999999999\n"
          ],
          "name": "stdout"
        }
      ]
    },
    {
      "cell_type": "code",
      "metadata": {
        "id": "BhKVyYNXE1om"
      },
      "source": [
        "#torch.save(model.state_dict(), 'reformer_e20_lr3e-3')"
      ],
      "execution_count": null,
      "outputs": []
    },
    {
      "cell_type": "code",
      "metadata": {
        "id": "E2QHg_LyE1sO"
      },
      "source": [
        "#!mv ./reformer_e20_lr3e-3 /content/gdrive/My\\ Drive/Colab\\ Notebooks/ "
      ],
      "execution_count": null,
      "outputs": []
    },
    {
      "cell_type": "code",
      "metadata": {
        "id": "xxG3hzAaE1wQ"
      },
      "source": [
        ""
      ],
      "execution_count": null,
      "outputs": []
    }
  ]
}